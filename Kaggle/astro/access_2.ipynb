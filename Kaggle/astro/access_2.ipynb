{
 "cells": [
  {
   "cell_type": "code",
   "execution_count": 1,
   "metadata": {
    "collapsed": true
   },
   "outputs": [],
   "source": [
    "import pandas as pd\n",
    "import matplotlib.pyplot as plt\n",
    "import numpy as np\n",
    "% matplotlib inline"
   ]
  },
  {
   "cell_type": "markdown",
   "metadata": {},
   "source": [
    "Don't use hostgal_photoz\n",
    "\n",
    "z = 0 -> in MW\n",
    "\n",
    "flux <0 -> 0\n",
    "\n",
    "Probably shouldn't use distmod either, basically same as z"
   ]
  },
  {
   "cell_type": "code",
   "execution_count": 2,
   "metadata": {
    "collapsed": true
   },
   "outputs": [],
   "source": [
    "directory_path = \"./\"\n",
    "\n",
    "metadata_columns = [\"object_id\", \"ra\", \"decl\", \"gal_l\", \"gal_b\"\t\"ddf\",\n",
    "                    \"hostgal_specz\", \"hostgal_photoz\", \"hostgal_photoz_err\",\n",
    "                    \"distmod\", \"mwebv\", \"target\"]\n",
    "\n",
    "data_columns = [\"object_id\", \"mjd\", \"passband\", \"flux\", \"flux_err\",\n",
    "                \"detected\"]\n",
    "\n",
    "features = ['flux',\n",
    " 'passb_1',\n",
    " 'passb_2',\n",
    " 'passb_3',\n",
    " 'passb_4',\n",
    " 'passb_5',\n",
    " 'passb_1_e',\n",
    " 'passb_2_e',\n",
    " 'passb_3_e',\n",
    " 'passb_4_e',\n",
    " 'passb_5_e',\n",
    "#  'ra',\n",
    "#  'decl',\n",
    "#  'gal_l',\n",
    "#  'gal_b',\n",
    " 'ddf',\n",
    "#  'hostgal_specz',\n",
    " 'hostgal_photoz',\n",
    " 'hostgal_photoz_err',\n",
    " 'mwebv']\n",
    "response = \"target\""
   ]
  },
  {
   "cell_type": "code",
   "execution_count": 3,
   "metadata": {
    "collapsed": true
   },
   "outputs": [],
   "source": [
    "def read(test=False):\n",
    "\n",
    "    \"\"\"Reads in data and metadata\"\"\"\n",
    "\n",
    "    if test:\n",
    "        data = pd.read_csv(directory_path + '/data/test_set.csv')#, nrows=1e3)\n",
    "        metadata = pd.read_csv(directory_path +\n",
    "                               \"/data/test_set_metadata.csv\")#, nrows=1e3)\n",
    "\n",
    "    else:\n",
    "        data = pd.read_csv(directory_path + \"/data/training_set.csv\")#, nrows=1e5)\n",
    "        metadata = pd.read_csv(directory_path +\n",
    "                               \"/data/training_set_metadata.csv\")#, nrows=1e5)\n",
    "\n",
    "    return data, metadata"
   ]
  },
  {
   "cell_type": "code",
   "execution_count": 4,
   "metadata": {
    "collapsed": true
   },
   "outputs": [],
   "source": [
    "def roc(y_test, y_pred, param=5, all=False):\n",
    "\n",
    "    \"\"\"Makes roc curve\"\"\"\n",
    "\n",
    "    fpr, tpr, thresholds = roc_curve(y_test, y_pred)\n",
    "    plt.plot(fpr, tpr)\n",
    "    plt.xlim(0, 1)\n",
    "    plt.ylim(0, 1)\n",
    "    plt.title(\"ROC \" + str(param))\n",
    "    plt.xlabel(\"False positive rate\")\n",
    "    plt.ylabel(\"True positve rate\")\n",
    "    auc = roc_auc_score(y_test, y_pred)\n",
    "    auc = auc.__round__(5)\n",
    "    print(auc)\n",
    "    plt.text(0.7, 0.2, \"AOC = \" + str(aoc))\n",
    "#     if not all:\n",
    "#         plt.savefig(save_path + \"roc_\" + type + str(param) + \"_astro.pdf\")\n",
    "#     else:\n",
    "#         plt.savefig(save_path + \"roc_\" + type + str(param) + \"_astro_all.pdf\")\n",
    "#     plt.close()\n",
    "    plt.show()\n",
    "\n",
    "    print(\"aoc = \" + str(aoc))\n",
    "\n",
    "    return auc"
   ]
  },
  {
   "cell_type": "code",
   "execution_count": 5,
   "metadata": {},
   "outputs": [],
   "source": [
    "test = False\n",
    "data, metadata = read(test)\n",
    "t_data, t_metadata = read(True)"
   ]
  },
  {
   "cell_type": "code",
   "execution_count": 6,
   "metadata": {},
   "outputs": [],
   "source": [
    "# len(t_data)"
   ]
  },
  {
   "cell_type": "code",
   "execution_count": 7,
   "metadata": {},
   "outputs": [
    {
     "name": "stderr",
     "output_type": "stream",
     "text": [
      "/anaconda3/lib/python3.6/site-packages/ipykernel_launcher.py:1: DeprecationWarning: \n",
      ".ix is deprecated. Please use\n",
      ".loc for label based indexing or\n",
      ".iloc for positional indexing\n",
      "\n",
      "See the documentation here:\n",
      "http://pandas.pydata.org/pandas-docs/stable/indexing.html#ix-indexer-is-deprecated\n",
      "  \"\"\"Entry point for launching an IPython kernel.\n"
     ]
    }
   ],
   "source": [
    "data.ix[data.flux < 0 , ['flux']] = 0"
   ]
  },
  {
   "cell_type": "code",
   "execution_count": 8,
   "metadata": {},
   "outputs": [
    {
     "name": "stderr",
     "output_type": "stream",
     "text": [
      "/anaconda3/lib/python3.6/site-packages/ipykernel_launcher.py:1: DeprecationWarning: \n",
      ".ix is deprecated. Please use\n",
      ".loc for label based indexing or\n",
      ".iloc for positional indexing\n",
      "\n",
      "See the documentation here:\n",
      "http://pandas.pydata.org/pandas-docs/stable/indexing.html#ix-indexer-is-deprecated\n",
      "  \"\"\"Entry point for launching an IPython kernel.\n"
     ]
    }
   ],
   "source": [
    "t_data.ix[t_data.flux < 0 , ['flux']] = 0"
   ]
  },
  {
   "cell_type": "code",
   "execution_count": 9,
   "metadata": {},
   "outputs": [],
   "source": [
    "# data.head(10)"
   ]
  },
  {
   "cell_type": "code",
   "execution_count": 10,
   "metadata": {},
   "outputs": [],
   "source": [
    "# merged = pd.merge(data, metadata, on='object_id', how='right')"
   ]
  },
  {
   "cell_type": "code",
   "execution_count": 11,
   "metadata": {},
   "outputs": [],
   "source": [
    "# merged.head(10)"
   ]
  },
  {
   "cell_type": "code",
   "execution_count": 12,
   "metadata": {},
   "outputs": [],
   "source": [
    "data['passb_1'] = data.flux[data.passband == 1]\n",
    "data['passb_2'] = data.flux[data.passband == 2]\n",
    "data['passb_3'] = data.flux[data.passband == 3]\n",
    "data['passb_4'] = data.flux[data.passband == 4]\n",
    "data['passb_5'] = data.flux[data.passband == 5]"
   ]
  },
  {
   "cell_type": "code",
   "execution_count": 13,
   "metadata": {
    "collapsed": true
   },
   "outputs": [],
   "source": [
    "t_data['passb_1'] = t_data.flux[t_data.passband == 1]\n",
    "t_data['passb_2'] = t_data.flux[t_data.passband == 2]\n",
    "t_data['passb_3'] = t_data.flux[t_data.passband == 3]\n",
    "t_data['passb_4'] = t_data.flux[t_data.passband == 4]\n",
    "t_data['passb_5'] = t_data.flux[t_data.passband == 5]"
   ]
  },
  {
   "cell_type": "code",
   "execution_count": 14,
   "metadata": {},
   "outputs": [],
   "source": [
    "# t_data.describe()"
   ]
  },
  {
   "cell_type": "code",
   "execution_count": 15,
   "metadata": {
    "collapsed": true
   },
   "outputs": [],
   "source": [
    "data['passb_1_e'] = data.flux_err[data.passband == 1]\n",
    "data['passb_2_e'] = data.flux_err[data.passband == 2]\n",
    "data['passb_3_e'] = data.flux_err[data.passband == 3]\n",
    "data['passb_4_e'] = data.flux_err[data.passband == 4]\n",
    "data['passb_5_e'] = data.flux_err[data.passband == 5]"
   ]
  },
  {
   "cell_type": "code",
   "execution_count": 16,
   "metadata": {
    "collapsed": true
   },
   "outputs": [],
   "source": [
    "t_data['passb_1_e'] = t_data.flux_err[t_data.passband == 1]\n",
    "t_data['passb_2_e'] = t_data.flux_err[t_data.passband == 2]\n",
    "t_data['passb_3_e'] = t_data.flux_err[t_data.passband == 3]\n",
    "t_data['passb_4_e'] = t_data.flux_err[t_data.passband == 4]\n",
    "t_data['passb_5_e'] = t_data.flux_err[t_data.passband == 5]"
   ]
  },
  {
   "cell_type": "code",
   "execution_count": 17,
   "metadata": {},
   "outputs": [],
   "source": [
    "# data.head()"
   ]
  },
  {
   "cell_type": "code",
   "execution_count": 18,
   "metadata": {},
   "outputs": [],
   "source": [
    "passbands = ['passb_1', 'passb_2', 'passb_3', 'passb_4', 'passb_5']\n",
    "for band in passbands:\n",
    "    data[band] = data[band].fillna(0)\n",
    "    data[band + '_e'] = data[band + '_e'].fillna(0)"
   ]
  },
  {
   "cell_type": "code",
   "execution_count": 19,
   "metadata": {
    "collapsed": true
   },
   "outputs": [],
   "source": [
    "for band in passbands:\n",
    "    t_data[band] = t_data[band].fillna(0)\n",
    "    t_data[band + '_e'] = t_data[band + '_e'].fillna(0)"
   ]
  },
  {
   "cell_type": "code",
   "execution_count": 20,
   "metadata": {},
   "outputs": [],
   "source": [
    "# data.head()"
   ]
  },
  {
   "cell_type": "code",
   "execution_count": 21,
   "metadata": {},
   "outputs": [],
   "source": [
    "groups = data.groupby(['object_id'])\\\n",
    "        .agg({'flux': np.mean, 'passb_1':np.mean, 'passb_2':np.mean, 'passb_3':np.mean,\\\n",
    "          'passb_4':np.mean, 'passb_5':np.mean,'passb_1_e':np.mean, 'passb_2_e':np.mean, 'passb_3_e':np.mean,\\\n",
    "          'passb_4_e':np.mean, 'passb_5_e':np.mean})"
   ]
  },
  {
   "cell_type": "code",
   "execution_count": 22,
   "metadata": {
    "collapsed": true
   },
   "outputs": [],
   "source": [
    "t_groups = t_data.groupby(['object_id'])\\\n",
    "        .agg({'flux': np.mean, 'passb_1':np.mean, 'passb_2':np.mean, 'passb_3':np.mean,\\\n",
    "          'passb_4':np.mean, 'passb_5':np.mean,'passb_1_e':np.mean, 'passb_2_e':np.mean, 'passb_3_e':np.mean,\\\n",
    "          'passb_4_e':np.mean, 'passb_5_e':np.mean})"
   ]
  },
  {
   "cell_type": "code",
   "execution_count": 23,
   "metadata": {},
   "outputs": [],
   "source": [
    "# groups.head()"
   ]
  },
  {
   "cell_type": "code",
   "execution_count": 24,
   "metadata": {},
   "outputs": [],
   "source": [
    "merged = pd.merge(groups, metadata, left_index=True, right_on='object_id').set_index('object_id')"
   ]
  },
  {
   "cell_type": "code",
   "execution_count": 25,
   "metadata": {
    "collapsed": true
   },
   "outputs": [],
   "source": [
    "t_merged = pd.merge(t_groups, t_metadata, left_index=True, right_on='object_id').set_index('object_id')"
   ]
  },
  {
   "cell_type": "code",
   "execution_count": 26,
   "metadata": {},
   "outputs": [],
   "source": [
    "# merged.head()"
   ]
  },
  {
   "cell_type": "code",
   "execution_count": 27,
   "metadata": {},
   "outputs": [],
   "source": [
    "# list(merged)"
   ]
  },
  {
   "cell_type": "markdown",
   "metadata": {},
   "source": [
    "### Models"
   ]
  },
  {
   "cell_type": "code",
   "execution_count": 28,
   "metadata": {
    "collapsed": true
   },
   "outputs": [],
   "source": [
    "from sklearn.neural_network import MLPClassifier\n",
    "from sklearn.ensemble import RandomForestClassifier\n",
    "from sklearn.metrics import roc_curve\n",
    "from sklearn.metrics import roc_auc_score\n",
    "from sklearn.model_selection import train_test_split"
   ]
  },
  {
   "cell_type": "code",
   "execution_count": 29,
   "metadata": {
    "collapsed": true
   },
   "outputs": [],
   "source": [
    "# X = merged[features]\n",
    "# y = merged[response]"
   ]
  },
  {
   "cell_type": "code",
   "execution_count": 30,
   "metadata": {},
   "outputs": [],
   "source": [
    "# t_merged.head()"
   ]
  },
  {
   "cell_type": "code",
   "execution_count": 31,
   "metadata": {},
   "outputs": [],
   "source": [
    "# X_train = X.iloc[:int(0.8*len(X)), :]\n",
    "# y_train = y.iloc[:int(0.8*len(y))]\n",
    "# X_test = X.iloc[int(0.8*len(X)):, :]\n",
    "# y_test = y.iloc[int(0.8*len(y)):]"
   ]
  },
  {
   "cell_type": "code",
   "execution_count": 32,
   "metadata": {},
   "outputs": [],
   "source": [
    "X_train = merged[features]\n",
    "y_train = merged[response]\n",
    "X_test = t_merged[features]\n",
    "# y_test = t_merged[response]\n",
    "ids = t_merged.index"
   ]
  },
  {
   "cell_type": "code",
   "execution_count": null,
   "metadata": {},
   "outputs": [],
   "source": []
  },
  {
   "cell_type": "markdown",
   "metadata": {},
   "source": [
    "#### Formatter"
   ]
  },
  {
   "cell_type": "code",
   "execution_count": 34,
   "metadata": {},
   "outputs": [],
   "source": [
    "def format(results, model='rf_30'):\n",
    "    columns = [\"class_6\", \"class_15\", \"class_16\", \"class_42\", \"class_52\", \"class_53\", \"class_62\",\\\n",
    "                \"class_64\", \"class_65\", \"class_67\", \"class_88\", \"class_90\", \"class_92\", \"class_95\", \"class_99\"]\n",
    "    column_indices = [6, 15, 16, 42, 52, 53, 62, 64, 65, 67, 88, 90, 92, 95, 99]\n",
    "    results = pd.DataFrame()\n",
    "    results[\"object_id\"] = ids\n",
    "    for column in columns:\n",
    "        results[column] = np.zeros(len(ids))\n",
    "    for i in range(len(ids)):\n",
    "        this_class = \"class_\" + str(int(y_pred[[i]]))\n",
    "        results[this_class].iloc[i] = int(1)\n",
    "    results.to_csv(model + '.csv', index=False)"
   ]
  },
  {
   "cell_type": "markdown",
   "metadata": {},
   "source": [
    "#### Random Forest"
   ]
  },
  {
   "cell_type": "code",
   "execution_count": 35,
   "metadata": {
    "collapsed": true
   },
   "outputs": [],
   "source": [
    "n_es = 30\n",
    "clf = RandomForestClassifier(n_estimators=n_es, max_depth=None,\n",
    "        min_samples_split=2, random_state=0)"
   ]
  },
  {
   "cell_type": "code",
   "execution_count": 36,
   "metadata": {},
   "outputs": [],
   "source": [
    "fit = clf.fit(X_train, y_train)"
   ]
  },
  {
   "cell_type": "code",
   "execution_count": null,
   "metadata": {},
   "outputs": [],
   "source": [
    "y_pred = fit.predict(X_test)"
   ]
  },
  {
   "cell_type": "code",
   "execution_count": null,
   "metadata": {},
   "outputs": [
    {
     "name": "stderr",
     "output_type": "stream",
     "text": [
      "/anaconda3/lib/python3.6/site-packages/pandas/core/indexing.py:179: SettingWithCopyWarning: \n",
      "A value is trying to be set on a copy of a slice from a DataFrame\n",
      "\n",
      "See the caveats in the documentation: http://pandas.pydata.org/pandas-docs/stable/indexing.html#indexing-view-versus-copy\n",
      "  self._setitem_with_indexer(indexer, value)\n"
     ]
    }
   ],
   "source": [
    "format(y_pred, 'rf_' + str(n_es))"
   ]
  },
  {
   "cell_type": "code",
   "execution_count": null,
   "metadata": {},
   "outputs": [],
   "source": [
    "# fit.score(X_test, y_test)"
   ]
  },
  {
   "cell_type": "markdown",
   "metadata": {},
   "source": [
    "#### Neural Network"
   ]
  },
  {
   "cell_type": "code",
   "execution_count": null,
   "metadata": {},
   "outputs": [],
   "source": [
    "param = (100, 90, 80, 50, 35)\n",
    "model = MLPClassifier(hidden_layer_sizes=param)"
   ]
  },
  {
   "cell_type": "code",
   "execution_count": null,
   "metadata": {
    "collapsed": true
   },
   "outputs": [],
   "source": [
    "fit = model.fit(X_train, y_train)"
   ]
  },
  {
   "cell_type": "code",
   "execution_count": null,
   "metadata": {
    "collapsed": true
   },
   "outputs": [],
   "source": [
    "y_pred = fit.predict(X_test)"
   ]
  },
  {
   "cell_type": "code",
   "execution_count": null,
   "metadata": {
    "collapsed": true
   },
   "outputs": [],
   "source": [
    "format(y_pred, 'nn_' + str(param))"
   ]
  },
  {
   "cell_type": "code",
   "execution_count": 164,
   "metadata": {},
   "outputs": [
    {
     "data": {
      "text/plain": [
       "0.46942675159235669"
      ]
     },
     "execution_count": 164,
     "metadata": {},
     "output_type": "execute_result"
    }
   ],
   "source": [
    "# fit.score(X_test, y_test)"
   ]
  },
  {
   "cell_type": "markdown",
   "metadata": {},
   "source": [
    "### Format results"
   ]
  },
  {
   "cell_type": "code",
   "execution_count": 320,
   "metadata": {},
   "outputs": [],
   "source": [
    "columns = [\"class_6\", \"class_15\", \"class_16\", \"class_42\", \"class_52\", \"class_53\", \"class_62\",\\\n",
    "            \"class_64\", \"class_65\", \"class_67\", \"class_88\", \"class_90\", \"class_92\", \"class_95\", \"class_99\"]\n",
    "column_indices = [6, 15, 16, 42, 52, 53, 62, 64, 65, 67, 88, 90, 92, 95, 99]"
   ]
  },
  {
   "cell_type": "code",
   "execution_count": 321,
   "metadata": {},
   "outputs": [],
   "source": [
    "results = pd.DataFrame()"
   ]
  },
  {
   "cell_type": "code",
   "execution_count": 322,
   "metadata": {
    "collapsed": true
   },
   "outputs": [],
   "source": [
    "results[\"object_id\"] = ids"
   ]
  },
  {
   "cell_type": "code",
   "execution_count": 323,
   "metadata": {},
   "outputs": [],
   "source": [
    "for column in columns:\n",
    "    results[column] = np.zeros(len(ids))"
   ]
  },
  {
   "cell_type": "code",
   "execution_count": 324,
   "metadata": {},
   "outputs": [
    {
     "name": "stderr",
     "output_type": "stream",
     "text": [
      "/anaconda3/lib/python3.6/site-packages/pandas/core/indexing.py:179: SettingWithCopyWarning: \n",
      "A value is trying to be set on a copy of a slice from a DataFrame\n",
      "\n",
      "See the caveats in the documentation: http://pandas.pydata.org/pandas-docs/stable/indexing.html#indexing-view-versus-copy\n",
      "  self._setitem_with_indexer(indexer, value)\n"
     ]
    }
   ],
   "source": [
    "for i in range(len(ids)):\n",
    "    this_class = \"class_\" + str(int(y_pred[[i]]))\n",
    "    results[this_class].iloc[i] = int(1)"
   ]
  },
  {
   "cell_type": "code",
   "execution_count": 325,
   "metadata": {
    "collapsed": true
   },
   "outputs": [],
   "source": [
    "results.to_csv('rf_results_30.csv', index=False)"
   ]
  },
  {
   "cell_type": "code",
   "execution_count": 316,
   "metadata": {
    "collapsed": true
   },
   "outputs": [],
   "source": [
    "results.to_csv('nn_results_100_90_80_50_35.csv', index=False)"
   ]
  },
  {
   "cell_type": "code",
   "execution_count": null,
   "metadata": {
    "collapsed": true
   },
   "outputs": [],
   "source": []
  },
  {
   "cell_type": "code",
   "execution_count": null,
   "metadata": {
    "collapsed": true
   },
   "outputs": [],
   "source": []
  }
 ],
 "metadata": {
  "kernelspec": {
   "display_name": "Python 3",
   "language": "python",
   "name": "python3"
  },
  "language_info": {
   "codemirror_mode": {
    "name": "ipython",
    "version": 3
   },
   "file_extension": ".py",
   "mimetype": "text/x-python",
   "name": "python",
   "nbconvert_exporter": "python",
   "pygments_lexer": "ipython3",
   "version": "3.6.3"
  }
 },
 "nbformat": 4,
 "nbformat_minor": 2
}
